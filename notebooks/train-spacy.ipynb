{
 "cells": [
  {
   "cell_type": "code",
   "execution_count": null,
   "id": "461670ae",
   "metadata": {},
   "outputs": [
    {
     "data": {
      "text/plain": [
       "1"
      ]
     },
     "execution_count": 1,
     "metadata": {},
     "output_type": "execute_result"
    }
   ],
   "source": [
    "import spacy\n",
    "from spacy.training import Example\n",
    "import random\n",
    "\n",
    "# Create a blank English model\n",
    "nlp = spacy.blank(\"en\")\n",
    "\n",
    "# Add text classifier component\n",
    "textcat = nlp.add_pipe(\"textcat\")\n",
    "\n",
    "# Add escalation labels\n",
    "textcat.add_label(\"P0\")\n",
    "textcat.add_label(\"P1\")\n",
    "textcat.add_label(\"P2\")\n",
    "\n"
   ]
  },
  {
   "cell_type": "code",
   "execution_count": 2,
   "id": "e24e26c1",
   "metadata": {},
   "outputs": [],
   "source": [
    "# Simple training data based on your escalation policy\n",
    "TRAINING_DATA = [\n",
    "    # P0 - Outage or data-loss risk\n",
    "    (\"Database is completely down\", {\"cats\": {\"P0\": 1.0, \"P1\": 0.0, \"P2\": 0.0}}),\n",
    "    (\"Total system outage\", {\"cats\": {\"P0\": 1.0, \"P1\": 0.0, \"P2\": 0.0}}),\n",
    "    (\"Data corruption detected\", {\"cats\": {\"P0\": 1.0, \"P1\": 0.0, \"P2\": 0.0}}),\n",
    "    (\"Service unavailable for all users\", {\"cats\": {\"P0\": 1.0, \"P1\": 0.0, \"P2\": 0.0}}),\n",
    "    (\"Critical data loss reported\", {\"cats\": {\"P0\": 1.0, \"P1\": 0.0, \"P2\": 0.0}}),\n",
    "    (\"Complete system failure\", {\"cats\": {\"P0\": 1.0, \"P1\": 0.0, \"P2\": 0.0}}),\n",
    "    \n",
    "    # P1 - Multiple customers blocked\n",
    "    (\"API failing for multiple customers\", {\"cats\": {\"P0\": 0.0, \"P1\": 1.0, \"P2\": 0.0}}),\n",
    "    (\"Payment system down affecting many users\", {\"cats\": {\"P0\": 0.0, \"P1\": 1.0, \"P2\": 0.0}}),\n",
    "    (\"Login issues reported by several customers\", {\"cats\": {\"P0\": 0.0, \"P1\": 1.0, \"P2\": 0.0}}),\n",
    "    (\"Multiple users cannot access dashboard\", {\"cats\": {\"P0\": 0.0, \"P1\": 1.0, \"P2\": 0.0}}),\n",
    "    (\"Bulk email delivery failing\", {\"cats\": {\"P0\": 0.0, \"P1\": 1.0, \"P2\": 0.0}}),\n",
    "    (\"Regional service disruption\", {\"cats\": {\"P0\": 0.0, \"P1\": 1.0, \"P2\": 0.0}}),\n",
    "    \n",
    "    # P2 - Single customer degradation\n",
    "    (\"One user reporting slow performance\", {\"cats\": {\"P0\": 0.0, \"P1\": 0.0, \"P2\": 1.0}}),\n",
    "    (\"Individual account sync issue\", {\"cats\": {\"P0\": 0.0, \"P1\": 0.0, \"P2\": 1.0}}),\n",
    "    (\"Single customer login problem\", {\"cats\": {\"P0\": 0.0, \"P1\": 0.0, \"P2\": 1.0}}),\n",
    "    (\"Minor UI glitch for one user\", {\"cats\": {\"P0\": 0.0, \"P1\": 0.0, \"P2\": 1.0}}),\n",
    "    (\"Customer reports feature not working\", {\"cats\": {\"P0\": 0.0, \"P1\": 0.0, \"P2\": 1.0}}),\n",
    "    (\"Individual data export failing\", {\"cats\": {\"P0\": 0.0, \"P1\": 0.0, \"P2\": 1.0}}),\n",
    "]\n",
    "\n"
   ]
  },
  {
   "cell_type": "code",
   "execution_count": 3,
   "id": "92fc86f7",
   "metadata": {},
   "outputs": [],
   "source": [
    "def train_model():\n",
    "    \"\"\"Train the escalation prediction model\"\"\"\n",
    "    print(\"Training escalation prediction model...\")\n",
    "    \n",
    "    # Initialize the model\n",
    "    nlp.initialize()\n",
    "    \n",
    "    # Training loop\n",
    "    for i in range(20):  # Simple training - 20 iterations\n",
    "        losses = {}\n",
    "        random.shuffle(TRAINING_DATA)\n",
    "        \n",
    "        for text, annotations in TRAINING_DATA:\n",
    "            example = Example.from_dict(nlp.make_doc(text), annotations)\n",
    "            nlp.update([example], losses=losses)\n",
    "        \n",
    "        if i % 5 == 0:\n",
    "            print(f\"Iteration {i}, Losses: {losses}\")\n",
    "    \n",
    "    print(\"Training completed!\")\n",
    "\n"
   ]
  },
  {
   "cell_type": "code",
   "execution_count": 4,
   "id": "7203a059",
   "metadata": {},
   "outputs": [],
   "source": [
    "def predict_escalation(incident_text):\n",
    "    \"\"\"Predict escalation level for given incident text\"\"\"\n",
    "    doc = nlp(incident_text)\n",
    "    \n",
    "    # Get prediction scores\n",
    "    scores = doc.cats\n",
    "    \n",
    "    # Find the highest scoring category\n",
    "    predicted_level = max(scores, key=scores.get)\n",
    "    confidence = scores[predicted_level]\n",
    "    \n",
    "    # Map to escalation policy\n",
    "    escalation_map = {\n",
    "        \"P0\": \"Outage or data-loss risk — page on-call within 5 minutes.\",\n",
    "        \"P1\": \"Multiple customers blocked — escalate to Incident Manager within 30 minutes.\",\n",
    "        \"P2\": \"Single-customer degradation — open Jira and respond within 4 business hours.\"\n",
    "    }\n",
    "    \n",
    "    return {\n",
    "        \"level\": predicted_level,\n",
    "        \"confidence\": round(confidence, 3),\n",
    "        \"action\": escalation_map[predicted_level],\n",
    "        \"all_scores\": {k: round(v, 3) for k, v in scores.items()}\n",
    "    }\n",
    "\n",
    "def test_model():\n",
    "    \"\"\"Test the model with sample incidents\"\"\"\n",
    "    test_cases = [\n",
    "        \"Database server crashed, all services down\",\n",
    "        \"Multiple customers cannot process payments\",\n",
    "        \"One customer reports dashboard loading slowly\",\n",
    "        \"Complete data center outage\",\n",
    "        \"Several users experiencing login timeouts\"\n",
    "    ]\n",
    "    \n",
    "    print(\"\\n=== Testing Escalation Predictions ===\")\n",
    "    for incident in test_cases:\n",
    "        result = predict_escalation(incident)\n",
    "        print(f\"\\nIncident: '{incident}'\")\n",
    "        print(f\"Predicted: {result['level']} (confidence: {result['confidence']})\")\n",
    "        print(f\"Action: {result['action']}\")\n",
    "        print(f\"All scores: {result['all_scores']}\")\n",
    "\n",
    "def save_model(model_path=\"escalation_model\"):\n",
    "    \"\"\"Save the trained model\"\"\"\n",
    "    nlp.to_disk(model_path)\n",
    "    print(f\"\\nModel saved to: {model_path}\")\n",
    "\n",
    "def load_model(model_path=\"escalation_model\"):\n",
    "    \"\"\"Load a saved model\"\"\"\n",
    "    loaded_nlp = spacy.load(model_path)\n",
    "    print(f\"Model loaded from: {model_path}\")\n",
    "    return loaded_nlp\n",
    "\n"
   ]
  },
  {
   "cell_type": "code",
   "execution_count": 5,
   "id": "dd5149e3",
   "metadata": {},
   "outputs": [
    {
     "name": "stdout",
     "output_type": "stream",
     "text": [
      "Training escalation prediction model...\n",
      "Iteration 0, Losses: {'textcat': 4.05171762406826}\n",
      "Iteration 5, Losses: {'textcat': 4.104989801589909e-05}\n",
      "Iteration 10, Losses: {'textcat': 3.938824139737562e-06}\n",
      "Iteration 15, Losses: {'textcat': 1.234700728325322e-06}\n",
      "Training completed!\n",
      "\n",
      "=== Testing Escalation Predictions ===\n",
      "\n",
      "Incident: 'Database server crashed, all services down'\n",
      "Predicted: P0 (confidence: 0.994)\n",
      "Action: Outage or data-loss risk — page on-call within 5 minutes.\n",
      "All scores: {'P0': 0.994, 'P1': 0.001, 'P2': 0.006}\n",
      "\n",
      "Incident: 'Multiple customers cannot process payments'\n",
      "Predicted: P1 (confidence: 0.996)\n",
      "Action: Multiple customers blocked — escalate to Incident Manager within 30 minutes.\n",
      "All scores: {'P0': 0.001, 'P1': 0.996, 'P2': 0.004}\n",
      "\n",
      "Incident: 'One customer reports dashboard loading slowly'\n",
      "Predicted: P2 (confidence: 0.997)\n",
      "Action: Single-customer degradation — open Jira and respond within 4 business hours.\n",
      "All scores: {'P0': 0.0, 'P1': 0.003, 'P2': 0.997}\n",
      "\n",
      "Incident: 'Complete data center outage'\n",
      "Predicted: P0 (confidence: 0.998)\n",
      "Action: Outage or data-loss risk — page on-call within 5 minutes.\n",
      "All scores: {'P0': 0.998, 'P1': 0.001, 'P2': 0.002}\n",
      "\n",
      "Incident: 'Several users experiencing login timeouts'\n",
      "Predicted: P2 (confidence: 0.531)\n",
      "Action: Single-customer degradation — open Jira and respond within 4 business hours.\n",
      "All scores: {'P0': 0.15, 'P1': 0.319, 'P2': 0.531}\n",
      "\n",
      "Model saved to: escalation_model\n",
      "\n",
      "=== Usage Example ===\n",
      "To use the model:\n",
      "result = predict_escalation('Your incident description here')\n",
      "print(result)\n"
     ]
    }
   ],
   "source": [
    "if __name__ == \"__main__\":\n",
    "    # Train the model\n",
    "    train_model()\n",
    "    \n",
    "    # Test predictions\n",
    "    test_model()\n",
    "    \n",
    "    # Save the model\n",
    "    save_model()\n",
    "    \n",
    "    print(\"\\n=== Usage Example ===\")\n",
    "    print(\"To use the model:\")\n",
    "    print(\"result = predict_escalation('Your incident description here')\")\n",
    "    print(\"print(result)\")"
   ]
  },
  {
   "cell_type": "code",
   "execution_count": 21,
   "id": "afb00f5d",
   "metadata": {},
   "outputs": [],
   "source": [
    "escalate = predict_escalation(\"Customer asks about nonprofit discount and annual prepay together.\")"
   ]
  },
  {
   "cell_type": "code",
   "execution_count": null,
   "id": "72f15c87",
   "metadata": {},
   "outputs": [
    {
     "name": "stderr",
     "output_type": "stream",
     "text": [
      "/Users/yeshwanthakula/Desktop/assignment/venv/lib/python3.11/site-packages/guardrails/validator_service/__init__.py:85: UserWarning: Could not obtain an event loop. Falling back to synchronous validation.\n",
      "  warnings.warn(\n"
     ]
    }
   ],
   "source": []
  },
  {
   "cell_type": "code",
   "execution_count": null,
   "id": "13b12e67",
   "metadata": {},
   "outputs": [],
   "source": []
  },
  {
   "cell_type": "code",
   "execution_count": null,
   "id": "3ed77df1",
   "metadata": {},
   "outputs": [],
   "source": []
  },
  {
   "cell_type": "code",
   "execution_count": null,
   "id": "5da76787",
   "metadata": {},
   "outputs": [],
   "source": []
  },
  {
   "cell_type": "code",
   "execution_count": null,
   "id": "86a553d7",
   "metadata": {},
   "outputs": [],
   "source": []
  }
 ],
 "metadata": {
  "kernelspec": {
   "display_name": "venv",
   "language": "python",
   "name": "python3"
  },
  "language_info": {
   "codemirror_mode": {
    "name": "ipython",
    "version": 3
   },
   "file_extension": ".py",
   "mimetype": "text/x-python",
   "name": "python",
   "nbconvert_exporter": "python",
   "pygments_lexer": "ipython3",
   "version": "3.11.7"
  }
 },
 "nbformat": 4,
 "nbformat_minor": 5
}
